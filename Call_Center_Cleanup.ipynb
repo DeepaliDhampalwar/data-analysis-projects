{
 "cells": [
  {
   "cell_type": "markdown",
   "id": "331a1c4f",
   "metadata": {},
   "source": [
    "# Call Center Cleanup\n",
    "\n",
    "For this assignment, we will be working with call center data. You can start working on the assignment after the first lesson on Exploratory Data Analysis with pandas. Make sure to read the whole assignment before starting anything! As you code along in the Jupyter notebook, you are asked to make note of the results of your analysis. Do so by clicking on the results box and adding your notes beside each question.\n",
    "\n",
    "## Business Issue and Understanding\n",
    "\n",
    "You are working for a company that has two call centers: the North Call Center and the South Call Center. The company is looking to possibly hire five additional reps to enhance customer experience. Your task is to explore how efficient the current reps are in each branch to determine which branch would benefit from additional assistance.\n",
    "\n",
    "### How the Call Center Works\n",
    "\n",
    "Call center representatives are assigned queues. When calls are assigned to a queue, the call is assigned to the next person in line in the queue. After a call is assigned to a representative, the amount of time between assignment and the call starting is divided into busy minutes and not ready minutes. If the call is incoming and a customer is waiting on the phone for a rep, the time is split into three categories: busy minutes, not ready minutes, and incoming call wait time. Once the rep has the customer on the phone, there might be during call wait time, where the call is put on hold while the rep gets an answer for the customer.\n",
    "\n",
    "### Notes about the Dataset\n",
    "\n",
    "If you haven't worked in a call center before, these notes might help you throughout your analysis.\n",
    "\n",
    "* The call purpose is tagged for each call.\n",
    "* The time of the call is tagged in 1 hour blocks starting at 9:00 AM and ending at 5:00 PM.\n",
    "* Calls are tagged as incoming or outgoing.\n",
    "* Reps are assigned to queues. When the reps are working, they take calls in the order of their queue.\n",
    "* A call that is dropped due to technical error or missed by the center because they have reached maximum capacity is a lost call.\n",
    "* An abandoned call is when the customer hangs up because they have been waiting for too long.\n",
    "* Busy Minutes: the amount of time after a call comes in or needs to go out where the assigned rep is not available because they are busy with other customers.\n",
    "* Not Ready Minutes: the amount of time after a call comes in or needs to go out where the assigned rep is not available because they are not ready (for example, getting water).\n",
    "* Incoming Wait Time - amount of time after assigned rep is available to take the call customer waits for representative to pick up a call. This is tracked in seconds.\n",
    "* During Call Wait Time - amount of time during call that customer has to wait for representative\n",
    "\n",
    "## Getting Started\n",
    "\n",
    "You have two CSVs at your disposal, `NorthCallCenter.csv` and `SouthCallCenter.csv`. Import the appropriate libraries and create two dataframes, one called `north_df` and one called `south_df`."
   ]
  },
  {
   "cell_type": "code",
   "execution_count": 47,
   "id": "f362436b",
   "metadata": {},
   "outputs": [],
   "source": [
    "# Import the appropriate libraries with aliases\n",
    "import pandas as pd\n",
    "import numpy as np\n",
    "import seaborn as sb\n",
    "import matplotlib.pyplot as plt\n",
    "# Create two new dataframes\n",
    "North_CallCenter= pd.read_csv(r\"C:\\Users\\ganes\\Desktop\\LaunchCode\\data-analysis-projects\\call-center-cleanup-assignment\\NorthCallCenter.csv\")\n",
    "South_CallCenter= pd.read_csv(r\"C:\\Users\\ganes\\Desktop\\LaunchCode\\data-analysis-projects\\call-center-cleanup-assignment\\SouthCallCenter.csv\")\n"
   ]
  },
  {
   "cell_type": "markdown",
   "id": "b4d3484b",
   "metadata": {},
   "source": [
    "## Task 1: Exploratory Data Analysis\n",
    "\n",
    "Time to do some EDA! In the process of learning more about the two datasets, answer the following questions. Use the code blocks below to begin cleaning your data. At the end of the section, record your answers."
   ]
  },
  {
   "cell_type": "markdown",
   "id": "76898991",
   "metadata": {},
   "source": [
    "#### EDA Question 1A:  How many reps are in the North branch?  "
   ]
  },
  {
   "cell_type": "code",
   "execution_count": 34,
   "id": "ce3eb5e4",
   "metadata": {},
   "outputs": [
    {
     "name": "stdout",
     "output_type": "stream",
     "text": [
      "Number of unique reps in the North branch: 9\n"
     ]
    }
   ],
   "source": [
    "# EDA Question 1A solution below:\n",
    "\n",
    "north_reps = North_CallCenter[North_CallCenter['Branch'] == 'North']['Rep ID'].nunique()\n",
    "print(f\"Number of unique reps in the North branch: {north_reps}\")"
   ]
  },
  {
   "cell_type": "markdown",
   "id": "2a9b34d8",
   "metadata": {},
   "source": [
    "#### EDA Question 1B:  How many reps are in the South branch?  "
   ]
  },
  {
   "cell_type": "code",
   "execution_count": 35,
   "id": "3c715bbf",
   "metadata": {},
   "outputs": [
    {
     "name": "stdout",
     "output_type": "stream",
     "text": [
      "Number of unique reps in the South branch: 11\n"
     ]
    }
   ],
   "source": [
    "# EDA Question 1B solution Below:\n",
    "\n",
    "south_reps = South_CallCenter[South_CallCenter['Branch'] == 'South']['Rep ID'].nunique()\n",
    "print(f\"Number of unique reps in the South branch: {south_reps}\")\n",
    "#South_CallCenter = South_CallCenter[South_CallCenter['Branch'] == 'South']['Rep ID'].nunique()\n",
    "#print(f\"Number of unique reps in the South branch: {south_reps}\")"
   ]
  },
  {
   "cell_type": "markdown",
   "id": "a872f045",
   "metadata": {},
   "source": [
    "#### EDA Question 2A:  What is the average busy minutes, not ready minutes, incoming wait time, and during call wait time for the North branch? "
   ]
  },
  {
   "cell_type": "code",
   "execution_count": 36,
   "id": "3759305f",
   "metadata": {},
   "outputs": [
    {
     "name": "stdout",
     "output_type": "stream",
     "text": [
      "Average Busy Minutes (North): 9.987755102040817\n",
      "Average Not Ready Minutes (North): 1.9142857142857144\n",
      "Average Incoming Wait Time (North): 3.048780487804878\n",
      "Average During Call Wait Time (North): 2.9673469387755103\n"
     ]
    }
   ],
   "source": [
    "# EDA Question 2A solution Below:\n",
    "north_branch = North_CallCenter[North_CallCenter['Branch'] == 'North']\n",
    "\n",
    "avg_busy_minutes = north_branch['Busy Minutes'].mean()\n",
    "avg_not_ready_minutes = north_branch['Not Ready Minutes'].mean()\n",
    "avg_incoming_wait_time = north_branch['Incoming Wait Time'].mean()\n",
    "avg_during_call_wait_time = north_branch['During Call Wait Time'].mean()\n",
    "\n",
    "print(f\"Average Busy Minutes (North): {avg_busy_minutes}\")\n",
    "print(f\"Average Not Ready Minutes (North): {avg_not_ready_minutes}\")\n",
    "print(f\"Average Incoming Wait Time (North): {avg_incoming_wait_time}\")\n",
    "print(f\"Average During Call Wait Time (North): {avg_during_call_wait_time}\")"
   ]
  },
  {
   "cell_type": "markdown",
   "id": "3851cf3e",
   "metadata": {},
   "source": [
    "#### EDA Question 2B:  What is the average busy minutes, not ready minutes, incoming wait time, and during call wait time for the South branch? "
   ]
  },
  {
   "cell_type": "code",
   "execution_count": 37,
   "id": "a77ec152",
   "metadata": {},
   "outputs": [
    {
     "name": "stdout",
     "output_type": "stream",
     "text": [
      "Average Busy Minutes: 10.054140127388536\n",
      "Average Not Ready Minutes: 1.910828025477707\n",
      "Average Incoming Wait Time: 3.0\n",
      "Average During Call Wait Time: 3.0764331210191083\n"
     ]
    }
   ],
   "source": [
    "# EDA Question 2B solution Below:\n",
    "south_branch = South_CallCenter[South_CallCenter['Branch'] == 'South']\n",
    "\n",
    "avg_busy_minutes = south_branch['Busy Minutes'].mean()\n",
    "avg_not_ready_minutes = south_branch['Not Ready Minutes'].mean()\n",
    "avg_incoming_wait_time = south_branch['Incoming Wait Time'].mean()\n",
    "avg_during_call_wait_time = south_branch['During Call Wait Time'].mean()\n",
    "\n",
    "print(f\"Average Busy Minutes: {avg_busy_minutes}\")\n",
    "print(f\"Average Not Ready Minutes: {avg_not_ready_minutes}\")\n",
    "print(f\"Average Incoming Wait Time: {avg_incoming_wait_time}\")\n",
    "print(f\"Average During Call Wait Time: {avg_during_call_wait_time}\")\n"
   ]
  },
  {
   "cell_type": "markdown",
   "id": "75915553",
   "metadata": {},
   "source": [
    "#### EDA Question 3:  What is the number of calls taken for each time block(Both North and South combined)?"
   ]
  },
  {
   "cell_type": "code",
   "execution_count": 38,
   "id": "49566936",
   "metadata": {},
   "outputs": [
    {
     "name": "stdout",
     "output_type": "stream",
     "text": [
      "Time Block\n",
      "10:00 AM     99\n",
      "11:00 AM     56\n",
      "12:00 PM    120\n",
      "1:00 PM      40\n",
      "2:00 PM      65\n",
      "3:00 PM      73\n",
      "4:00 PM      53\n",
      "5:00 PM      43\n",
      "9:00 AM      10\n",
      "Name: Calls, dtype: int64\n"
     ]
    }
   ],
   "source": [
    "# EDA Question 3 solution Below:\n",
    "combined_callcenter = pd.concat([North_CallCenter, South_CallCenter])\n",
    "calls_per_timeblock = combined_callcenter.groupby('Time Block')['Calls'].sum()\n",
    "print(calls_per_timeblock)\n"
   ]
  },
  {
   "cell_type": "markdown",
   "id": "40b1fd3f",
   "metadata": {},
   "source": [
    "##### Record your answers for the EDA section below:\n",
    "- 1a) Reps in the North Branch = 9\n",
    "- 1b) Reps in the South Branch = 11\n",
    "\n",
    "\n",
    "- 2a) North Branch, (round to the nearest hundredth):\n",
    "> - Busy Minutes = 9.99\n",
    "> - Not Ready Minutes = 1.91\n",
    "> - Incoming Wait Time = 3.05\n",
    "> - During Call Wait Time = 2.97\n",
    "- 2b) South Branch, (round to the nearest hundredth):\n",
    "> - Busy Minutes = 10.05\n",
    "> - Not Ready Minutes = 1.91\n",
    "> - Incoming Wait Time = 3.0\n",
    "> - During Call Wait Time = 3.08\n",
    "- 3) Total Calls taken for all branches per time block:\n",
    "> - 9:00AM   = 10\n",
    "> - 10:00AM  = 99\n",
    "> - 11:00AM  = 56\n",
    "> - 12:00PM  = 120\n",
    "> - 1:00PM   = 40\n",
    "> - 2:00PM   = 65\n",
    "> - 3:00PM   = 73\n",
    "> - 4:00PM   = 53\n",
    "> - 5:00PM   = 43\n",
    "\n"
   ]
  },
  {
   "cell_type": "markdown",
   "id": "366bfb19",
   "metadata": {},
   "source": [
    "## Task 2: Cleaning Your Data \n",
    "Now you need to clean up the datasets. When cleaning the datasets, you may find that there isn't dirty data to clean. That is okay! Some questions you need to answer about the data sets.\n",
    "* Add additional code blocks as needed to show how you came to your conclusions. Add comments in your code blocks to help others understand your thinking. "
   ]
  },
  {
   "cell_type": "markdown",
   "id": "c3564d69",
   "metadata": {},
   "source": [
    "#### Cleaning Question 1:  Is there any missing data and if yes explain what you would do with the missing data and why?"
   ]
  },
  {
   "cell_type": "code",
   "execution_count": 39,
   "id": "b77fb574",
   "metadata": {},
   "outputs": [
    {
     "name": "stdout",
     "output_type": "stream",
     "text": [
      "Unnamed: 0 - 0%\n",
      "Branch - 0%\n",
      "Call Purpose - 0%\n",
      "Time Block - 0%\n",
      "Incoming or Outgoing - 0%\n",
      "Queue - 0%\n",
      "Rep ID - 0%\n",
      "Sale - 0%\n",
      "Lost Call - 0%\n",
      "Abandoned - 0%\n",
      "Busy Minutes - 0%\n",
      "Not Ready Minutes - 0%\n",
      "Incoming Wait Time - 67%\n",
      "During Call Wait Time - 0%\n",
      "Calls - 0%\n",
      "Unnamed: 0 - 0%\n",
      "Branch - 0%\n",
      "Call Purpose - 0%\n",
      "Time Block - 0%\n",
      "Incoming or Outgoing - 0%\n",
      "Queue - 0%\n",
      "Rep ID - 0%\n",
      "Sale - 0%\n",
      "Lost Call - 0%\n",
      "Abandoned - 0%\n",
      "Busy Minutes - 0%\n",
      "Not Ready Minutes - 0%\n",
      "Incoming Wait Time - 60%\n",
      "During Call Wait Time - 0%\n",
      "Calls - 0%\n"
     ]
    }
   ],
   "source": [
    "# Question 1 solution below\n",
    "#To find missing data in both datasets following steps are carried out\n",
    "\n",
    "for col in North_CallCenter.columns:\n",
    "    pct_missing = np.mean(North_CallCenter[col].isnull())\n",
    "    print('{} - {}%'.format(col, round(pct_missing*100)))\n",
    "\n",
    "for col in South_CallCenter.columns:\n",
    "    pct_missing = np.mean(South_CallCenter[col].isnull())\n",
    "    print('{} - {}%'.format(col, round(pct_missing*100)))"
   ]
  },
  {
   "cell_type": "markdown",
   "id": "0dc5c568-40db-4889-b82b-64610d8058d2",
   "metadata": {
    "jp-MarkdownHeadingCollapsed": true
   },
   "source": [
    "#### Record your answer below:\n",
    "\n",
    "> Your Answer: In both the datasets data is missing in only one column."
   ]
  },
  {
   "cell_type": "markdown",
   "id": "dc47f020",
   "metadata": {},
   "source": [
    "#### Cleaning Question 2:  In the North data set, there are two separate \"YES\" values for a sale. Why and how did you rectify the issue?"
   ]
  },
  {
   "cell_type": "code",
   "execution_count": 40,
   "id": "4e0fbad6",
   "metadata": {},
   "outputs": [
    {
     "data": {
      "text/plain": [
       "array(['NO', 'YES'], dtype=object)"
      ]
     },
     "execution_count": 40,
     "metadata": {},
     "output_type": "execute_result"
    }
   ],
   "source": [
    "# Cleaning Question 2 solution below:\n",
    "North_CallCenter['Sale'] = North_CallCenter['Sale'].str.strip()\n",
    "North_CallCenter['Sale'].unique()"
   ]
  },
  {
   "cell_type": "markdown",
   "id": "cf81b612-eb6b-45a6-ac8e-d6f4e08131a8",
   "metadata": {},
   "source": [
    "##### Record your answer by below:\n",
    "> Your Answer: I checked for the unique values in the \"Sale\" column to investigate the issue with the two separate \"YES\" values.\n",
    "> The issue is that there are two separate \"YES\" values in the \"Sale\" column: one with an extra trailing space ('YES ') and one without it ('YES'). This inconsistency can be resolved by cleaning the column and standardizing the values."
   ]
  },
  {
   "cell_type": "markdown",
   "id": "715f375a",
   "metadata": {},
   "source": [
    "#### Cleaning Question 3:  Are there duplicates in the two data sets? If there are, how did you handle them?"
   ]
  },
  {
   "cell_type": "code",
   "execution_count": 41,
   "id": "2323673a",
   "metadata": {},
   "outputs": [
    {
     "name": "stdout",
     "output_type": "stream",
     "text": [
      "Series([], dtype: bool)\n"
     ]
    }
   ],
   "source": [
    "# Cleaning Question 3 solution below:\n",
    "# Merge the datasets based on common columns (e.g., 'Rep ID' and 'Call Purpose')\n",
    "merged_df = pd.merge(North_CallCenter, South_CallCenter, on=['Rep ID', 'Call Purpose'], how='inner')\n",
    "duplicates = merged_df.duplicated(subset=['Rep ID', 'Call Purpose'])\n",
    "print(duplicates)\n",
    "\n",
    "# Drop duplicates\n",
    "cleaned_df = merged_df.drop_duplicates(subset=['Rep ID', 'Call Purpose'])\n"
   ]
  },
  {
   "cell_type": "markdown",
   "id": "4fbfe2e8-490a-48dc-b0ca-599879076c62",
   "metadata": {},
   "source": [
    "##### Record your answer below:\n",
    "> Your Answer: I'll identify duplicates based on one or more key columns (e.g., Rep ID, Call Purpose, Sale, etc.).\n",
    "> we can either drop or flag the duplicates:"
   ]
  },
  {
   "cell_type": "markdown",
   "id": "8ffaa865",
   "metadata": {},
   "source": [
    "#### Cleaning Question 4:  Is any of the data in the two data sets unnecessary? If yes, how did you handle it?"
   ]
  },
  {
   "cell_type": "code",
   "execution_count": 42,
   "id": "78b45e70",
   "metadata": {},
   "outputs": [
    {
     "name": "stdout",
     "output_type": "stream",
     "text": [
      "Unnamed: 0                 0\n",
      "Branch                     0\n",
      "Call Purpose               0\n",
      "Time Block                 0\n",
      "Incoming or Outgoing       0\n",
      "Queue                      0\n",
      "Rep ID                     0\n",
      "Sale                       0\n",
      "Lost Call                  0\n",
      "Abandoned                  0\n",
      "Busy Minutes               0\n",
      "Not Ready Minutes          0\n",
      "Incoming Wait Time       163\n",
      "During Call Wait Time      0\n",
      "Calls                      0\n",
      "dtype: int64\n",
      "Unnamed: 0                 0\n",
      "Branch                     0\n",
      "Call Purpose               0\n",
      "Time Block                 0\n",
      "Incoming or Outgoing       0\n",
      "Queue                      0\n",
      "Rep ID                     0\n",
      "Sale                       0\n",
      "Lost Call                  0\n",
      "Abandoned                  0\n",
      "Busy Minutes               0\n",
      "Not Ready Minutes          0\n",
      "Incoming Wait Time       188\n",
      "During Call Wait Time      0\n",
      "Calls                      0\n",
      "dtype: int64\n",
      "Unnamed: 0                 0\n",
      "Branch                     0\n",
      "Call Purpose               0\n",
      "Time Block                 0\n",
      "Incoming or Outgoing       0\n",
      "Queue                      0\n",
      "Rep ID                     0\n",
      "Sale                       0\n",
      "Lost Call                  0\n",
      "Abandoned                  0\n",
      "Busy Minutes               0\n",
      "Not Ready Minutes          0\n",
      "Incoming Wait Time       163\n",
      "During Call Wait Time      0\n",
      "Calls                      0\n",
      "dtype: int64\n",
      "Unnamed: 0                 0\n",
      "Branch                     0\n",
      "Call Purpose               0\n",
      "Time Block                 0\n",
      "Incoming or Outgoing       0\n",
      "Queue                      0\n",
      "Rep ID                     0\n",
      "Sale                       0\n",
      "Lost Call                  0\n",
      "Abandoned                  0\n",
      "Busy Minutes               0\n",
      "Not Ready Minutes          0\n",
      "Incoming Wait Time       188\n",
      "During Call Wait Time      0\n",
      "Calls                      0\n",
      "dtype: int64\n"
     ]
    }
   ],
   "source": [
    "# Cleaning Question 4 solution below:\n",
    "#1. Check for Missing Data:\n",
    "north_missing = North_CallCenter.isnull().sum()\n",
    "south_missing = South_CallCenter.isnull().sum()\n",
    "\n",
    "print(north_missing)\n",
    "print(south_missing)\n",
    "\n",
    "North_CallCenter['Incoming Wait Time'] = North_CallCenter['Incoming Wait Time'].fillna(North_CallCenter['Incoming Wait Time'].mean())\n",
    "South_CallCenter['Incoming Wait Time'] = South_CallCenter['Incoming Wait Time'].fillna(South_CallCenter['Incoming Wait Time'].mean())\n",
    "\n",
    "print(north_missing)\n",
    "print(south_missing)"
   ]
  },
  {
   "cell_type": "markdown",
   "id": "689e76b9-64d2-45d7-883a-b8c4d822e0c8",
   "metadata": {},
   "source": [
    "##### Record your answer below:\n",
    "> Your Answer: Yes, there are missing values in the column \"Incoming Wait Time\".\n",
    "> I filled the values by using 'mean' method."
   ]
  },
  {
   "cell_type": "markdown",
   "id": "73342a9a",
   "metadata": {},
   "source": [
    "## Task 3: Data Manipulation\n",
    "Before you begin answering any questions, combine the two datasets together to create a third dataframe called df. You can use this third dataframe to compare the two call centers to company-wide trends.\n",
    "* Add additional code blocks as needed to show how you came to your conclusions. Add comments in your code blocks to help others understand your thinking. Record your answer below."
   ]
  },
  {
   "cell_type": "code",
   "execution_count": 43,
   "id": "e9705c34",
   "metadata": {},
   "outputs": [
    {
     "name": "stdout",
     "output_type": "stream",
     "text": [
      "   Unnamed: 0 Branch     Call Purpose Time Block Incoming or Outgoing Queue  \\\n",
      "0           0  North        Complaint    9:00 AM             Incoming     B   \n",
      "1           1  North    Sales Support   11:00 AM             Incoming     A   \n",
      "2           2  North    Sales Support   11:00 AM             Incoming     B   \n",
      "3           3  North    Sales Support    4:00 PM             Incoming     B   \n",
      "4           4  North  Product Support   12:00 PM             Incoming     B   \n",
      "\n",
      "  Rep ID Sale  Lost Call  Abandoned  Busy Minutes  Not Ready Minutes  \\\n",
      "0  Brent   NO          0          1             9                  2   \n",
      "1    Cam   NO          0          0            11                  1   \n",
      "2   Todd   NO          0          0             9                  3   \n",
      "3  Brent   NO          0          0            11                  2   \n",
      "4  Brent   NO          0          0             8                  2   \n",
      "\n",
      "   Incoming Wait Time  During Call Wait Time  Calls  \n",
      "0                 1.0                      4      1  \n",
      "1                 1.0                      3      1  \n",
      "2                 1.0                      3      1  \n",
      "3                 1.0                      4      1  \n",
      "4                 1.0                      4      1  \n"
     ]
    }
   ],
   "source": [
    "# Create dataframe for the entire company named df\n",
    "#If both datasets have the same structure (i.e., same columns), we can concatenate them row-wise. In this case both df have same structure,therefore we can use 'cocat' to combine the two datasets.\n",
    "\n",
    "df = pd.concat([North_CallCenter, South_CallCenter], ignore_index=True)\n",
    "print(df.head())"
   ]
  },
  {
   "cell_type": "markdown",
   "id": "7e87dfd1",
   "metadata": {},
   "source": [
    "#### Manipulation Question 1:  Group by Rep ID and sum the resulting structure. Sort by calls to determine which rep in each branch has the highest number of calls."
   ]
  },
  {
   "cell_type": "code",
   "execution_count": 44,
   "id": "3953f09a",
   "metadata": {},
   "outputs": [
    {
     "name": "stdout",
     "output_type": "stream",
     "text": [
      "               Unnamed: 0                                       Call Purpose  \\\n",
      "Rep ID Branch                                                                  \n",
      "Brent  North         4840  ComplaintSales SupportProduct SupportComplaint...   \n",
      "Eric   South         5039  Sales SupportComplaintSales SupportSales Suppo...   \n",
      "\n",
      "                                                      Time Block  \\\n",
      "Rep ID Branch                                                      \n",
      "Brent  North   9:00 AM4:00 PM12:00 PM12:00 PM3:00 PM1:00 PM10...   \n",
      "Eric   South   10:00 AM1:00 PM10:00 AM12:00 PM2:00 PM3:00 PM3...   \n",
      "\n",
      "                                            Incoming or Outgoing  \\\n",
      "Rep ID Branch                                                      \n",
      "Brent  North   IncomingIncomingIncomingIncomingIncomingIncomi...   \n",
      "Eric   South   IncomingIncomingIncomingIncomingIncomingIncomi...   \n",
      "\n",
      "                                               Queue  \\\n",
      "Rep ID Branch                                          \n",
      "Brent  North   BBBBBBBBBBBBBBBBBBBBBBBBBBBBBBBBBBBBB   \n",
      "Eric   South     CCCCCCCCCCCCCCCCCCCCCCCCCCCCCCCCCCC   \n",
      "\n",
      "                                                            Sale  Lost Call  \\\n",
      "Rep ID Branch                                                                 \n",
      "Brent  North   NONONONONONONONONONONONONONONONONONONONONONONO...          0   \n",
      "Eric   South   NONONONONONONONONONONONONONONONONONONONONONONO...          0   \n",
      "\n",
      "               Abandoned  Busy Minutes  Not Ready Minutes  Incoming Wait Time  \\\n",
      "Rep ID Branch                                                                   \n",
      "Brent  North           1           362                 71          105.414634   \n",
      "Eric   South           0           361                 54           98.000000   \n",
      "\n",
      "               During Call Wait Time  Calls  \n",
      "Rep ID Branch                                \n",
      "Brent  North                     117     37  \n",
      "Eric   South                     112     35  \n"
     ]
    }
   ],
   "source": [
    "# Manipulation Question solution below:\n",
    "rep_group = df.groupby(['Rep ID', 'Branch']).sum()\n",
    "\n",
    "sorted_rep_group = rep_group.sort_values(by='Calls', ascending=False)\n",
    "\n",
    "top_reps = sorted_rep_group.groupby('Branch').head(1)\n",
    "\n",
    "print(top_reps)"
   ]
  },
  {
   "cell_type": "markdown",
   "id": "7c29838c-1402-4e4b-94c9-050515d8dd18",
   "metadata": {},
   "source": [
    "##### Record your answer below\n",
    "Rep with the hightest number of calls and their total calls:\n",
    "- North Branch = Rep ID: Brent, Calls: 37\n",
    "- South Branch = Rep ID: Eric, Calls: 35"
   ]
  },
  {
   "cell_type": "markdown",
   "id": "809293b9",
   "metadata": {},
   "source": [
    "#### Manipulation Question 2:  The average call abandonment rate is a KPI when it comes to determining call center efficiency. As you may recall, abandoned calls are calls where the customer hangs up due to long call times. What is the average call abandonment rate for each branch and the whole company? Do any of these fall out of the optimal range of 2-5%?"
   ]
  },
  {
   "cell_type": "code",
   "execution_count": 45,
   "id": "3dff7534",
   "metadata": {},
   "outputs": [
    {
     "name": "stdout",
     "output_type": "stream",
     "text": [
      "Abandonment Rate per Branch:\n",
      "Branch\n",
      "North    2.857143\n",
      "South    1.273885\n",
      "dtype: float64\n",
      "\n",
      "Overall Company Abandonment Rate: 1.97%\n",
      "Branches with Abandonment Rate outside the optimal range of 2-5%:\n",
      "Branch\n",
      "South    1.273885\n",
      "dtype: float64\n"
     ]
    }
   ],
   "source": [
    "# Manipulation Question 2 solution below:\n",
    "#Total_calls=df['Calls'].sum()\n",
    "\n",
    "branch_abandonment = df.groupby('Branch').apply(\n",
    "    lambda x: (x['Abandoned'].sum() / x['Calls'].sum()) * 100,include_groups=False)\n",
    "\n",
    "total_abandonment_rate = (df['Abandoned'].sum() / df['Calls'].sum()) * 100\n",
    "\n",
    "print(\"Abandonment Rate per Branch:\")\n",
    "print(branch_abandonment)\n",
    "\n",
    "print(f\"\\nOverall Company Abandonment Rate: {total_abandonment_rate:.2f}%\")\n",
    "\n",
    "#Do any of these fall out of the optimal range of 2-5%?\n",
    "\n",
    "optimal_range = (2, 5)\n",
    "out_of_range_branches = branch_abandonment[(branch_abandonment < 2) | (branch_abandonment > 5)]\n",
    "\n",
    "print(\"Branches with Abandonment Rate outside the optimal range of 2-5%:\")\n",
    "print(out_of_range_branches)"
   ]
  },
  {
   "cell_type": "markdown",
   "id": "c284596f-218f-4291-81b6-718ea5671feb",
   "metadata": {},
   "source": [
    "##### Record your answer below:\n",
    "Average Call Abandonment Rates (round to the nearest hundredth):\n",
    "- North Branch = 2.857143\n",
    "- South Branch = 1.273885\n",
    "- Company Wide = 1.97%\n",
    "- Do any of these fall out of the optimal range of 2-5%? No."
   ]
  },
  {
   "cell_type": "markdown",
   "id": "598bb1bf",
   "metadata": {},
   "source": [
    "#### Manipulation Question 3:  Service level is another KPI when it comes to measuring call center efficiency. Service level is the percentage of calls answered within a specific number of seconds. In the case of your employer, their ideal time frame is 2 seconds. What is the percentage of calls answered within 2 seconds for each branch and the entire company?"
   ]
  },
  {
   "cell_type": "code",
   "execution_count": 49,
   "id": "2fc8f669",
   "metadata": {},
   "outputs": [
    {
     "name": "stdout",
     "output_type": "stream",
     "text": [
      "North Branch Service Level: 40.24%\n",
      "South Branch Service Level: 38.10%\n",
      "Company-wide Service Level: 38.94%\n"
     ]
    }
   ],
   "source": [
    "# Manipulation Question 3 solution below:\n",
    "# Step 1: Filter incoming calls that are answered within 2 seconds\n",
    "north_quick_calls = North_CallCenter[(North_CallCenter[\"Incoming Wait Time\"] <= 2.0) & (North_CallCenter[\"Incoming or Outgoing\"] == \"Incoming\")]\n",
    "south_quick_calls = South_CallCenter[(South_CallCenter[\"Incoming Wait Time\"] <= 2.0) & (South_CallCenter[\"Incoming or Outgoing\"] == \"Incoming\")]\n",
    "\n",
    "# Step 2: Total calls for each branch\n",
    "north_total_calls = North_CallCenter[North_CallCenter[\"Incoming or Outgoing\"] == \"Incoming\"][\"Calls\"].sum()\n",
    "south_total_calls = South_CallCenter[South_CallCenter[\"Incoming or Outgoing\"] == \"Incoming\"][\"Calls\"].sum()\n",
    "\n",
    "# Step 3: Calls answered within 2 seconds\n",
    "north_quick_total = north_quick_calls[\"Calls\"].sum()\n",
    "south_quick_total = south_quick_calls[\"Calls\"].sum()\n",
    "\n",
    "# Step 4: Calculate service level percentages\n",
    "north_service_level = (north_quick_total / north_total_calls) * 100\n",
    "south_service_level = (south_quick_total / south_total_calls) * 100\n",
    "\n",
    "# Step 5: Company-wide service level percentage\n",
    "total_calls_company = north_total_calls + south_total_calls\n",
    "quick_calls_company = north_quick_total + south_quick_total\n",
    "company_service_level = (quick_calls_company / total_calls_company) * 100\n",
    "\n",
    "# Print results\n",
    "print(f\"North Branch Service Level: {north_service_level:.2f}%\")\n",
    "print(f\"South Branch Service Level: {south_service_level:.2f}%\")\n",
    "print(f\"Company-wide Service Level: {company_service_level:.2f}%\")\n"
   ]
  },
  {
   "cell_type": "markdown",
   "id": "e3a4c9d9-4e11-4e1f-859a-d2c919f7d9ce",
   "metadata": {},
   "source": [
    "##### Record your answer below:\n",
    "Percentage of calls answered within 2 seconds, include # of calls:\n",
    "- North Branch = 40.24% and 33 calls\n",
    "- South Branch = 38.10% and 48 calls\n",
    "- Company Wide = 38.94% and 81 calls"
   ]
  },
  {
   "cell_type": "markdown",
   "id": "7e19e705",
   "metadata": {},
   "source": [
    "#### Manipulation Question 4: For each branch and the entire company, what is the average speed of answer?"
   ]
  },
  {
   "cell_type": "code",
   "execution_count": 50,
   "id": "72a653ed",
   "metadata": {},
   "outputs": [
    {
     "name": "stdout",
     "output_type": "stream",
     "text": [
      "North Branch Average Speed of Answer: 3.05 seconds\n",
      "South Branch Average Speed of Answer: 3.00 seconds\n",
      "Company-wide Average Speed of Answer: 3.02 seconds\n"
     ]
    }
   ],
   "source": [
    "# Manipulation Question 4 solution below:\n",
    "# Step 1: Filter incoming calls for both branches\n",
    "north_incoming_calls = North_CallCenter[North_CallCenter[\"Incoming or Outgoing\"] == \"Incoming\"]\n",
    "south_incoming_calls = South_CallCenter[South_CallCenter[\"Incoming or Outgoing\"] == \"Incoming\"]\n",
    "\n",
    "# Step 2: Calculate the average speed of answer (ASA) for each branch\n",
    "north_avg_speed_answer = north_incoming_calls[\"Incoming Wait Time\"].mean()\n",
    "south_avg_speed_answer = south_incoming_calls[\"Incoming Wait Time\"].mean()\n",
    "\n",
    "# Step 3: Calculate the company-wide average speed of answer\n",
    "# Combine both branches to get the overall average\n",
    "combined_incoming_calls = pd.concat([north_incoming_calls, south_incoming_calls])\n",
    "company_avg_speed_answer = combined_incoming_calls[\"Incoming Wait Time\"].mean()\n",
    "\n",
    "# Print results\n",
    "print(f\"North Branch Average Speed of Answer: {north_avg_speed_answer:.2f} seconds\")\n",
    "print(f\"South Branch Average Speed of Answer: {south_avg_speed_answer:.2f} seconds\")\n",
    "print(f\"Company-wide Average Speed of Answer: {company_avg_speed_answer:.2f} seconds\")\n"
   ]
  },
  {
   "cell_type": "markdown",
   "id": "fb04c65b-442b-48e1-b22c-b2af8b835ffd",
   "metadata": {},
   "source": [
    "##### Record your answer by below:\n",
    "Average speed of answer (rounded to nearest hundredth):\n",
    "- North Branch in seconds = 3.05 seconds\n",
    "- South Branch in seconds = 3 seconds\n",
    "- Company Wide in seconds = 3.02 seconds\n"
   ]
  },
  {
   "cell_type": "markdown",
   "id": "d5f50a40",
   "metadata": {},
   "source": [
    "## Task 4: Visualization\n",
    "\n",
    "Create a visualization for each of the following questions. Some of the code to handle aggregating and storing data may be written for you. For each visualization, you choose the chart style that you feel suits the situation best. Make note of the chart style you chose and why. \n",
    "\n",
    "*NOTE Some questions you may decide to use more than one chart and or chart style."
   ]
  },
  {
   "cell_type": "markdown",
   "id": "66ccf83c",
   "metadata": {},
   "source": [
    "#### Visualization 1:  What is the average abandonment rate per queue?"
   ]
  },
  {
   "cell_type": "code",
   "execution_count": 51,
   "id": "c971d779",
   "metadata": {},
   "outputs": [
    {
     "name": "stderr",
     "output_type": "stream",
     "text": [
      "C:\\Users\\ganes\\AppData\\Local\\Temp\\ipykernel_12344\\3796147387.py:9: FutureWarning: Series.__getitem__ treating keys as positions is deprecated. In a future version, integer keys will always be treated as labels (consistent with DataFrame behavior). To access a value by position, use `ser.iloc[pos]`\n",
      "  abandonment_rates[queues[i]] = queue_dict[\"Abandoned\"][i] / queue_dict[\"Calls\"][i]\n"
     ]
    },
    {
     "data": {
      "image/png": "[encoded data removed]",
      "text/plain": [
       "<Figure size 800x600 with 1 Axes>"
      ]
     },
     "metadata": {},
     "output_type": "display_data"
    }
   ],
   "source": [
    "# Create visualization 1 here\n",
    "# Import any additional libraries needed with alias\n",
    "\n",
    "# The dictionary abandonment_rates has the data you need.\n",
    "abandonment_rates = {}\n",
    "queues = [\"A\", \"B\", \"C\", \"D\"]\n",
    "queue_dict = df.groupby(\"Queue\").agg(\"sum\")\n",
    "for i in range(4):\n",
    "    abandonment_rates[queues[i]] = queue_dict[\"Abandoned\"][i] / queue_dict[\"Calls\"][i] \n",
    "\n",
    "#Your code below:\n",
    "import matplotlib.pyplot as plt\n",
    "\n",
    "# Data from abandonment_rates dictionary\n",
    "queues = list(abandonment_rates.keys())\n",
    "abandonment_values = list(abandonment_rates.values())\n",
    "\n",
    "# Create a bar chart\n",
    "plt.figure(figsize=(8, 6))\n",
    "plt.bar(queues, abandonment_values, color='skyblue')\n",
    "\n",
    "# Add titles and labels\n",
    "plt.title('Abandonment Rates by Queue', fontsize=14)\n",
    "plt.xlabel('Queue', fontsize=12)\n",
    "plt.ylabel('Abandonment Rate', fontsize=12)\n",
    "\n",
    "# Show the plot\n",
    "plt.show()\n"
   ]
  },
  {
   "cell_type": "markdown",
   "id": "00a821e7-b296-4950-8889-dacf36ef37fb",
   "metadata": {},
   "source": [
    "##### Record your answer below:\n",
    "\n",
    "> Chart style you chose and why:\n",
    ">  I used a bar chart. The bar chart helps to visualize the correlation between the average abandonment rate and queue."
   ]
  },
  {
   "cell_type": "markdown",
   "id": "4a9fc77f",
   "metadata": {},
   "source": [
    "#### Visualization 2: What is the service level percentage and average speed of answer for each rep in the North Branch?"
   ]
  },
  {
   "cell_type": "code",
   "execution_count": 56,
   "id": "61f65a7f",
   "metadata": {},
   "outputs": [
    {
     "name": "stdout",
     "output_type": "stream",
     "text": [
      "        Total Calls  Quick Calls  Service Level %  Average Speed of Answer\n",
      "Rep ID                                                                    \n",
      "Amanda            5            3        60.000000                 2.400000\n",
      "Andy             10            3        30.000000                 3.600000\n",
      "Brent             8            6        75.000000                 2.125000\n",
      "Cam              11            5        45.454545                 2.909091\n",
      "Duke             14            6        42.857143                 2.785714\n",
      "Joe              10            2        20.000000                 3.600000\n",
      "Lilly            12            4        33.333333                 3.083333\n",
      "Todd              6            2        33.333333                 3.500000\n",
      "Xander            6            2        33.333333                 3.333333\n"
     ]
    },
    {
     "data": {
      "image/png": "[encoded data removed]",
      "text/plain": [
       "<Figure size 1400x600 with 2 Axes>"
      ]
     },
     "metadata": {},
     "output_type": "display_data"
    }
   ],
   "source": [
    "# Create visualization 2 here\n",
    "# north_plt contains the data you need for the average speed of answer of each rep\n",
    "\n",
    "import pandas as pd\n",
    "\n",
    "# Step 1: Filter incoming calls for the North Branch\n",
    "north_incoming_calls = North_CallCenter[North_CallCenter[\"Incoming or Outgoing\"] == \"Incoming\"]\n",
    "\n",
    "# Step 2: Calculate the service level for each rep (calls answered within 2 seconds)\n",
    "# Filter quick calls (<= 2 seconds)\n",
    "north_quick_calls = north_incoming_calls[north_incoming_calls[\"Incoming Wait Time\"] <= 2.0]\n",
    "\n",
    "# Group by 'Rep ID' and calculate total calls and quick calls\n",
    "total_calls_per_rep = north_incoming_calls.groupby(\"Rep ID\")[\"Calls\"].sum()\n",
    "quick_calls_per_rep = north_quick_calls.groupby(\"Rep ID\")[\"Calls\"].sum()\n",
    "\n",
    "# Create a DataFrame to store the results\n",
    "service_level_per_rep = pd.DataFrame({\n",
    "    \"Total Calls\": total_calls_per_rep,\n",
    "    \"Quick Calls\": quick_calls_per_rep\n",
    "}).fillna(0)  # Filling NaN values with 0 for reps with no quick calls\n",
    "\n",
    "# Step 3: Calculate the service level percentage\n",
    "service_level_per_rep[\"Service Level %\"] = (service_level_per_rep[\"Quick Calls\"] / service_level_per_rep[\"Total Calls\"]) * 100\n",
    "\n",
    "# Step 4: Calculate the average speed of answer (ASA) for each rep\n",
    "service_level_per_rep[\"Average Speed of Answer\"] = north_incoming_calls.groupby(\"Rep ID\")[\"Incoming Wait Time\"].mean()\n",
    "\n",
    "# Display the final DataFrame\n",
    "print(service_level_per_rep)\n",
    "\n",
    "#Your Code Here:\n",
    "import matplotlib.pyplot as plt\n",
    "\n",
    "# Step 5: Visualization of Service Level % and ASA\n",
    "\n",
    "# Setting up the figure with two subplots (side-by-side)\n",
    "fig, ax = plt.subplots(1, 2, figsize=(14, 6))\n",
    "\n",
    "# Plot 1: Service Level Percentage per Rep\n",
    "ax[0].barh(service_level_per_rep.index, service_level_per_rep[\"Service Level %\"], color='lightblue')\n",
    "ax[0].set_title('Service Level Percentage by Rep (North Branch)', fontsize=14)\n",
    "ax[0].set_xlabel('Service Level %')\n",
    "ax[0].set_ylabel('Rep ID')\n",
    "ax[0].invert_yaxis()  # Highest value on top\n",
    "\n",
    "# Plot 2: Average Speed of Answer (ASA) per Rep\n",
    "ax[1].barh(service_level_per_rep.index, service_level_per_rep[\"Average Speed of Answer\"], color='lightgreen')\n",
    "ax[1].set_title('Average Speed of Answer by Rep (North Branch)', fontsize=14)\n",
    "ax[1].set_xlabel('Average Speed of Answer (seconds)')\n",
    "ax[1].invert_yaxis()  # Ensure both charts have the same y-axis orientation\n",
    "\n",
    "# Display the plots\n",
    "plt.tight_layout()\n",
    "plt.show()\n"
   ]
  },
  {
   "cell_type": "markdown",
   "id": "4d4cad4d-f9fb-4927-8a45-4b5cd17edd3a",
   "metadata": {},
   "source": [
    "##### Record your answer below:\n",
    "\n",
    "> Chart style you chose and why: "
   ]
  },
  {
   "cell_type": "markdown",
   "id": "f965e41a",
   "metadata": {},
   "source": [
    "#### Visualization 3: For each type of call purpose, how many calls are outgoing vs. incoming?"
   ]
  },
  {
   "cell_type": "code",
   "execution_count": 58,
   "id": "44096730",
   "metadata": {},
   "outputs": [
    {
     "name": "stdout",
     "output_type": "stream",
     "text": [
      "Call Purpose     Incoming or Outgoing\n",
      "Complaint        Incoming                 51\n",
      "Product Support  Outgoing                228\n",
      "                 Incoming                 82\n",
      "Sales Support    Outgoing                123\n",
      "                 Incoming                 75\n",
      "Name: count, dtype: int64\n"
     ]
    },
    {
     "data": {
      "image/png": "[encoded data removed]",
      "text/plain": [
       "<Figure size 1000x600 with 1 Axes>"
      ]
     },
     "metadata": {},
     "output_type": "display_data"
    }
   ],
   "source": [
    "# Create visualization 3 here:\n",
    "# The three dictionaries, complaints, sales_support, and product_support, have the information you need\n",
    "\n",
    "purpose_group = df.groupby(\"Call Purpose\")\n",
    "call_purpose = [\"Complaint\", \"Product Support\", \"Sales Support\"]\n",
    "purpose_counts = purpose_group[\"Incoming or Outgoing\"].value_counts()\n",
    "print(purpose_counts)\n",
    "\n",
    "complaints = purpose_counts[\"Complaint\"].to_dict()\n",
    "sales_support = purpose_counts[\"Sales Support\"].to_dict()\n",
    "product_support = purpose_counts[\"Product Support\"].to_dict()\n",
    "\n",
    "#Your Code Here:\n",
    "import matplotlib.pyplot as plt\n",
    "import numpy as np\n",
    "\n",
    "# Data from the dictionaries\n",
    "call_purposes = [\"Complaint\", \"Sales Support\", \"Product Support\"]\n",
    "incoming_calls = [complaints.get('Incoming', 0), sales_support.get('Incoming', 0), product_support.get('Incoming', 0)]\n",
    "outgoing_calls = [complaints.get('Outgoing', 0), sales_support.get('Outgoing', 0), product_support.get('Outgoing', 0)]\n",
    "\n",
    "# X-axis positions\n",
    "x = np.arange(len(call_purposes))\n",
    "\n",
    "# Width of the bars\n",
    "bar_width = 0.35\n",
    "\n",
    "# Create the plot\n",
    "fig, ax = plt.subplots(figsize=(10, 6))\n",
    "\n",
    "# Plot incoming and outgoing calls\n",
    "bars1 = ax.bar(x - bar_width/2, incoming_calls, bar_width, label='Incoming', color='skyblue')\n",
    "bars2 = ax.bar(x + bar_width/2, outgoing_calls, bar_width, label='Outgoing', color='salmon')\n",
    "\n",
    "# Add labels and title\n",
    "ax.set_xlabel('Call Purpose', fontsize=12)\n",
    "ax.set_ylabel('Number of Calls', fontsize=12)\n",
    "ax.set_title('Incoming vs Outgoing Calls by Call Purpose', fontsize=14)\n",
    "ax.set_xticks(x)\n",
    "ax.set_xticklabels(call_purposes)\n",
    "\n",
    "# Add a legend\n",
    "ax.legend()\n",
    "\n",
    "# Display the plot\n",
    "plt.tight_layout()\n",
    "plt.show()\n"
   ]
  },
  {
   "cell_type": "markdown",
   "id": "9198bbe4-44ef-4e21-bd40-6ace8e9f7694",
   "metadata": {},
   "source": [
    "##### Record your answer below:\n",
    "\n",
    "> Chart style you chose and why: "
   ]
  },
  {
   "cell_type": "markdown",
   "id": "ea7ed568",
   "metadata": {},
   "source": [
    "## Task 5: Summarize Your Work\n",
    "\n",
    "With what you know now about the two call centers and the entire company, answer the following questions. Note that while this is subjective, you should include relevant data to back up your opinion.\n"
   ]
  },
  {
   "cell_type": "markdown",
   "id": "d2fc3d13",
   "metadata": {},
   "source": [
    "#### Summary Question 1:  Using KPIs such as average abandonment rate, service level and average speed of answer, in your opinion, which one of the two branches is operating more efficiently? Why?\n",
    "\n",
    "##### Record your answer below:\n",
    "> Your Answer:\n",
    "> North Branch: Slightly better in service level (more calls answered within 2 seconds), which is an important metric for responsiveness.\n",
    ">South Branch: Better in call abandonment rate and average speed of answer, meaning fewer customers are dropping off and calls are being answered more quickly on average.\n",
    "\n",
    "Overall Efficiency:\n",
    ">South Branch seems to be operating more efficiently based on its lower abandonment rate and slightly faster speed of answer. These two KPIs are crucial for maintaining customer satisfaction and minimizing lost opportunities.\n",
    "\n",
    ">North Branch performs better in service level, which suggests they may have better responsiveness, but since the difference is small and the South Branch still maintains a competitive service level, the South Branch edges out slightly in overall efficiency.\n",
    "\n"
   ]
  },
  {
   "cell_type": "markdown",
   "id": "489f28d6",
   "metadata": {},
   "source": [
    "#### Summary Question 2: Based on the number of reps in each branch and how quickly the reps are working, in your opinion, which branch would benefit from the extra help?\n",
    "\n",
    "##### Record your answer below:\n",
    "> Your Answer:\n",
    "> North Branch would benefit more from extra help because:\n",
    "\n",
    "They have fewer reps (9) handling calls compared to the South Branch (11 reps).\n",
    "Their slightly slower speed of answer indicates that they may be working at full capacity.\n",
    "They are maintaining a higher service level, but this could drop if the workload increases, or they may struggle with longer call times without additional support.\n",
    "South Branch, with more reps, seems to be managing its workload well and doesn't appear to need immediate additional resources.\n"
   ]
  },
  {
   "cell_type": "markdown",
   "id": "0b10a8c3",
   "metadata": {},
   "source": [
    "#### Summary Question 3: Now that you have explored the datasets, is there any data or information that you wish you had in this analysis?\n",
    "\n",
    "##### Record your answer below:\n",
    "> Your Answer: \n",
    ">Having detailed information on call volume over time (such as per hour or day) would help assess how each branch handles peak times. This could identify whether additional reps are needed during certain times rather than overall.\n",
    "> Call outcomes, it would be useful to know whether calls ended in successful resolutions, follow-ups, or complaints. Tracking the effectiveness of reps beyond just answering calls quickly can better inform branch efficiency and rep effectiveness.\n",
    "> Customer Satisfaction Scores (CSAT) data would provide direct insight into how customers perceive the service they are receiving. High efficiency in terms of KPIs like speed of answer doesn’t always correlate with high satisfaction, so this metric would add another layer of understanding to branch performance.\n",
    "> These additional data points would provide a fuller picture of both branch efficiency and customer experience, offering more insights for staffing decisions and process improvements."
   ]
  },
  {
   "cell_type": "markdown",
   "id": "ce16f43d",
   "metadata": {},
   "source": [
    "## Bonus Mission\n",
    "Create a visualization that answers this question: For each call purpose, how many calls (incoming and outgoing) take place in each time block?\n",
    "##### Record your answer below:\n",
    "\n",
    "> Chart style you chose and why: "
   ]
  },
  {
   "cell_type": "code",
   "execution_count": 61,
   "id": "71b04f32",
   "metadata": {},
   "outputs": [
    {
     "data": {
      "image/png": "[encoded data removed]",
      "text/plain": [
       "<Figure size 1200x700 with 1 Axes>"
      ]
     },
     "metadata": {},
     "output_type": "display_data"
    }
   ],
   "source": [
    "# Create your Bonus Mission visualization here!\n",
    "import matplotlib.pyplot as plt\n",
    "import seaborn as sns\n",
    "import pandas as pd\n",
    "\n",
    "# Assuming df is your dataframe\n",
    "call_times = df[[\"Time Block\", \"Call Purpose\", \"Incoming or Outgoing\", \"Calls\"]]\n",
    "\n",
    "# Group by 'Time Block', 'Call Purpose', and 'Incoming or Outgoing', and sum the 'Calls'\n",
    "grouped_calls = call_times.groupby([\"Time Block\", \"Call Purpose\", \"Incoming or Outgoing\"]).sum().reset_index()\n",
    "\n",
    "# Pivot the table to prepare for visualization\n",
    "pivot_calls = grouped_calls.pivot_table(values='Calls', index=['Time Block'], columns=['Call Purpose', 'Incoming or Outgoing'], aggfunc='sum')\n",
    "\n",
    "# Plot the stacked bar chart\n",
    "pivot_calls.plot(kind='bar', stacked=True, figsize=(12, 7))\n",
    "\n",
    "# Set the title and labels\n",
    "plt.title('Number of Calls (Incoming and Outgoing) for Each Call Purpose by Time Block')\n",
    "plt.xlabel('Time Block')\n",
    "plt.ylabel('Number of Calls')\n",
    "plt.xticks(rotation=45)\n",
    "\n",
    "# Display the legend and plot\n",
    "plt.legend(title='Call Purpose and Type', bbox_to_anchor=(1.05, 1), loc='upper left')\n",
    "plt.tight_layout()\n",
    "plt.show()\n"
   ]
  },
  {
   "cell_type": "code",
   "execution_count": null,
   "id": "94bdc52d-d60a-4c10-b4ef-4d2d96e8c9eb",
   "metadata": {},
   "outputs": [],
   "source": []
  }
 ],
 "metadata": {
  "kernelspec": {
   "display_name": "Python 3 (ipykernel)",
   "language": "python",
   "name": "python3"
  },
  "language_info": {
   "codemirror_mode": {
    "name": "ipython",
    "version": 3
   },
   "file_extension": ".py",
   "mimetype": "text/x-python",
   "name": "python",
   "nbconvert_exporter": "python",
   "pygments_lexer": "ipython3",
   "version": "3.12.4"
  }
 },
 "nbformat": 4,
 "nbformat_minor": 5
}
